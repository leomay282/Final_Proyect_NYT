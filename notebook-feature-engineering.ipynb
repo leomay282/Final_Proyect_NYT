{
   "cells": [
      {
         "cell_type": "markdown",
         "metadata": {},
         "source": [
            "## 1. Preprocessing"
         ]
      },
      {
         "cell_type": "code",
         "execution_count": 1,
         "metadata": {},
         "outputs": [
            {
               "name": "stderr",
               "output_type": "stream",
               "text": [
                  "C:\\Users\\Cesar_Maydana\\AppData\\Local\\Temp\\ipykernel_14176\\1277252762.py:1: DeprecationWarning: the imp module is deprecated in favour of importlib; see the module's documentation for alternative uses\n",
                  "  from imp import reload\n"
               ]
            }
         ],
         "source": [
            "from imp import reload\n",
            "from sqlalchemy import create_engine\n",
            "from src import config, data_utils, preprocessing\n",
            "import pandas as pd\n",
            "import seaborn as sns"
         ]
      },
      {
         "cell_type": "markdown",
         "metadata": {},
         "source": [
            "### Getting the data"
         ]
      },
      {
         "cell_type": "code",
         "execution_count": 2,
         "metadata": {},
         "outputs": [
            {
               "name": "stdout",
               "output_type": "stream",
               "text": [
                  "columns Index(['VendorID', 'passenger_count', 'trip_distance', 'RatecodeID',\n",
                  "       'store_and_fwd_flag', 'PULocationID', 'DOLocationID', 'payment_type',\n",
                  "       'fare_amount', 'extra', 'mta_tax', 'tip_amount', 'tolls_amount',\n",
                  "       'improvement_surcharge', 'total_amount', 'congestion_surcharge',\n",
                  "       'airport_fee', 'duration_in_minutes', 'pickup_year', 'pickup_day',\n",
                  "       'pickup_day_of_week', 'pickup_minute', 'trips_per_hour',\n",
                  "       'average_speed_per_hour'],\n",
                  "      dtype='object')\n"
               ]
            },
            {
               "data": {
                  "text/plain": [
                     "Index(['VendorID', 'passenger_count', 'trip_distance', 'RatecodeID',\n",
                     "       'store_and_fwd_flag', 'PULocationID', 'DOLocationID', 'payment_type',\n",
                     "       'fare_amount', 'extra', 'mta_tax', 'tip_amount', 'tolls_amount',\n",
                     "       'improvement_surcharge', 'total_amount', 'congestion_surcharge',\n",
                     "       'airport_fee', 'duration_in_minutes', 'pickup_year', 'pickup_day',\n",
                     "       'pickup_day_of_week', 'pickup_minute', 'trips_per_hour',\n",
                     "       'average_speed_per_hour'],\n",
                     "      dtype='object')"
                  ]
               },
               "execution_count": 2,
               "metadata": {},
               "output_type": "execute_result"
            }
         ],
         "source": [
            "app_train, app_test = data_utils.get_datasets()\n",
            "app_train.columns"
         ]
      },
      {
         "cell_type": "code",
         "execution_count": 6,
         "metadata": {},
         "outputs": [
            {
               "data": {
                  "image/png": "[encoded data removed]",
                  "text/plain": [
                     "<Figure size 640x480 with 1 Axes>"
                  ]
               },
               "metadata": {},
               "output_type": "display_data"
            }
         ],
         "source": [
            "import matplotlib.pyplot as plt\n",
            "\n",
            "# Suponiendo que duration_in_minutes es tu lista de duraciones\n",
            "\n",
            "plt.hist(app_train.duration_in_minutes, bins=50, edgecolor='black')\n",
            "plt.title('Durations of trips in minutes')\n",
            "plt.xlabel('Duración en Minutos')\n",
            "plt.ylabel('Frecuencia')\n",
            "plt.show()"
         ]
      },
      {
         "cell_type": "code",
         "execution_count": 9,
         "metadata": {},
         "outputs": [
            {
               "data": {
                  "text/plain": [
                     "Index(['VendorID', 'passenger_count', 'trip_distance', 'RatecodeID',\n",
                     "       'store_and_fwd_flag', 'PULocationID', 'DOLocationID', 'payment_type',\n",
                     "       'fare_amount', 'extra', 'mta_tax', 'tip_amount', 'tolls_amount',\n",
                     "       'improvement_surcharge', 'total_amount', 'congestion_surcharge',\n",
                     "       'airport_fee', 'duration_in_minutes', 'pickup_year', 'pickup_day',\n",
                     "       'pickup_day_of_week', 'pickup_minute', 'trips_per_hour',\n",
                     "       'average_speed_per_hour'],\n",
                     "      dtype='object')"
                  ]
               },
               "execution_count": 9,
               "metadata": {},
               "output_type": "execute_result"
            }
         ],
         "source": [
            "app_train.columns"
         ]
      },
      {
         "cell_type": "code",
         "execution_count": 10,
         "metadata": {},
         "outputs": [],
         "source": [
            "columns_to_drop = ['fare_amount', 'tolls_amount','airport_fee','tip_amount', 'extra', 'mta_tax','improvement_surcharge','congestion_surcharge']\n",
            "app_train = app_train.drop(columns=columns_to_drop)\n",
            "app_test = app_test.drop(columns=columns_to_drop)"
         ]
      },
      {
         "cell_type": "code",
         "execution_count": 11,
         "metadata": {},
         "outputs": [
            {
               "data": {
                  "text/html": [
                     "<div>\n",
                     "<style scoped>\n",
                     "    .dataframe tbody tr th:only-of-type {\n",
                     "        vertical-align: middle;\n",
                     "    }\n",
                     "\n",
                     "    .dataframe tbody tr th {\n",
                     "        vertical-align: top;\n",
                     "    }\n",
                     "\n",
                     "    .dataframe thead th {\n",
                     "        text-align: right;\n",
                     "    }\n",
                     "</style>\n",
                     "<table border=\"1\" class=\"dataframe\">\n",
                     "  <thead>\n",
                     "    <tr style=\"text-align: right;\">\n",
                     "      <th></th>\n",
                     "      <th>VendorID</th>\n",
                     "      <th>RatecodeID</th>\n",
                     "      <th>store_and_fwd_flag</th>\n",
                     "      <th>PULocationID</th>\n",
                     "      <th>DOLocationID</th>\n",
                     "      <th>payment_type</th>\n",
                     "    </tr>\n",
                     "  </thead>\n",
                     "  <tbody>\n",
                     "    <tr>\n",
                     "      <th>0</th>\n",
                     "      <td>1</td>\n",
                     "      <td>1.0</td>\n",
                     "      <td>N</td>\n",
                     "      <td>246.0</td>\n",
                     "      <td>151</td>\n",
                     "      <td>2</td>\n",
                     "    </tr>\n",
                     "    <tr>\n",
                     "      <th>1</th>\n",
                     "      <td>1</td>\n",
                     "      <td>1.0</td>\n",
                     "      <td>N</td>\n",
                     "      <td>238.0</td>\n",
                     "      <td>74</td>\n",
                     "      <td>2</td>\n",
                     "    </tr>\n",
                     "    <tr>\n",
                     "      <th>2</th>\n",
                     "      <td>1</td>\n",
                     "      <td>1.0</td>\n",
                     "      <td>N</td>\n",
                     "      <td>163.0</td>\n",
                     "      <td>260</td>\n",
                     "      <td>2</td>\n",
                     "    </tr>\n",
                     "    <tr>\n",
                     "      <th>3</th>\n",
                     "      <td>1</td>\n",
                     "      <td>1.0</td>\n",
                     "      <td>N</td>\n",
                     "      <td>79.0</td>\n",
                     "      <td>182</td>\n",
                     "      <td>1</td>\n",
                     "    </tr>\n",
                     "    <tr>\n",
                     "      <th>4</th>\n",
                     "      <td>1</td>\n",
                     "      <td>1.0</td>\n",
                     "      <td>N</td>\n",
                     "      <td>238.0</td>\n",
                     "      <td>75</td>\n",
                     "      <td>1</td>\n",
                     "    </tr>\n",
                     "  </tbody>\n",
                     "</table>\n",
                     "</div>"
                  ],
                  "text/plain": [
                     "  VendorID RatecodeID store_and_fwd_flag PULocationID DOLocationID   \n",
                     "0        1        1.0                  N        246.0          151  \\\n",
                     "1        1        1.0                  N        238.0           74   \n",
                     "2        1        1.0                  N        163.0          260   \n",
                     "3        1        1.0                  N         79.0          182   \n",
                     "4        1        1.0                  N        238.0           75   \n",
                     "\n",
                     "  payment_type  \n",
                     "0            2  \n",
                     "1            2  \n",
                     "2            2  \n",
                     "3            1  \n",
                     "4            1  "
                  ]
               },
               "execution_count": 11,
               "metadata": {},
               "output_type": "execute_result"
            }
         ],
         "source": [
            "# Seleccionar columnas de tipo objeto\n",
            "columnas_objeto = app_train.select_dtypes(include=['object'])\n",
            "columnas_objeto.head()"
         ]
      },
      {
         "cell_type": "code",
         "execution_count": 12,
         "metadata": {},
         "outputs": [],
         "source": [
            "columns_to_drop = ['VendorID', 'RatecodeID','store_and_fwd_flag']\n",
            "app_train = app_train.drop(columns=columns_to_drop)\n",
            "app_test = app_test.drop(columns=columns_to_drop)"
         ]
      },
      {
         "cell_type": "code",
         "execution_count": 13,
         "metadata": {},
         "outputs": [
            {
               "data": {
                  "text/html": [
                     "<div>\n",
                     "<style scoped>\n",
                     "    .dataframe tbody tr th:only-of-type {\n",
                     "        vertical-align: middle;\n",
                     "    }\n",
                     "\n",
                     "    .dataframe tbody tr th {\n",
                     "        vertical-align: top;\n",
                     "    }\n",
                     "\n",
                     "    .dataframe thead th {\n",
                     "        text-align: right;\n",
                     "    }\n",
                     "</style>\n",
                     "<table border=\"1\" class=\"dataframe\">\n",
                     "  <thead>\n",
                     "    <tr style=\"text-align: right;\">\n",
                     "      <th></th>\n",
                     "      <th>passenger_count</th>\n",
                     "      <th>trip_distance</th>\n",
                     "      <th>PULocationID</th>\n",
                     "      <th>DOLocationID</th>\n",
                     "      <th>payment_type</th>\n",
                     "      <th>total_amount</th>\n",
                     "      <th>duration_in_minutes</th>\n",
                     "      <th>pickup_year</th>\n",
                     "      <th>pickup_day</th>\n",
                     "      <th>pickup_day_of_week</th>\n",
                     "      <th>pickup_minute</th>\n",
                     "      <th>trips_per_hour</th>\n",
                     "      <th>average_speed_per_hour</th>\n",
                     "    </tr>\n",
                     "  </thead>\n",
                     "  <tbody>\n",
                     "    <tr>\n",
                     "      <th>0</th>\n",
                     "      <td>1.0</td>\n",
                     "      <td>4.1</td>\n",
                     "      <td>246.0</td>\n",
                     "      <td>151</td>\n",
                     "      <td>2</td>\n",
                     "      <td>20.80</td>\n",
                     "      <td>18.700000</td>\n",
                     "      <td>2022.0</td>\n",
                     "      <td>1</td>\n",
                     "      <td>6</td>\n",
                     "      <td>0</td>\n",
                     "      <td>101898</td>\n",
                     "      <td>25.577794</td>\n",
                     "    </tr>\n",
                     "    <tr>\n",
                     "      <th>1</th>\n",
                     "      <td>1.0</td>\n",
                     "      <td>2.3</td>\n",
                     "      <td>238.0</td>\n",
                     "      <td>74</td>\n",
                     "      <td>2</td>\n",
                     "      <td>14.80</td>\n",
                     "      <td>13.816667</td>\n",
                     "      <td>2022.0</td>\n",
                     "      <td>1</td>\n",
                     "      <td>6</td>\n",
                     "      <td>27</td>\n",
                     "      <td>101898</td>\n",
                     "      <td>25.577794</td>\n",
                     "    </tr>\n",
                     "    <tr>\n",
                     "      <th>2</th>\n",
                     "      <td>1.0</td>\n",
                     "      <td>4.2</td>\n",
                     "      <td>163.0</td>\n",
                     "      <td>260</td>\n",
                     "      <td>2</td>\n",
                     "      <td>19.30</td>\n",
                     "      <td>15.366667</td>\n",
                     "      <td>2022.0</td>\n",
                     "      <td>1</td>\n",
                     "      <td>6</td>\n",
                     "      <td>59</td>\n",
                     "      <td>101898</td>\n",
                     "      <td>25.577794</td>\n",
                     "    </tr>\n",
                     "    <tr>\n",
                     "      <th>3</th>\n",
                     "      <td>1.0</td>\n",
                     "      <td>0.0</td>\n",
                     "      <td>79.0</td>\n",
                     "      <td>182</td>\n",
                     "      <td>1</td>\n",
                     "      <td>42.00</td>\n",
                     "      <td>39.733333</td>\n",
                     "      <td>2022.0</td>\n",
                     "      <td>1</td>\n",
                     "      <td>6</td>\n",
                     "      <td>48</td>\n",
                     "      <td>101898</td>\n",
                     "      <td>25.577794</td>\n",
                     "    </tr>\n",
                     "    <tr>\n",
                     "      <th>4</th>\n",
                     "      <td>1.0</td>\n",
                     "      <td>1.6</td>\n",
                     "      <td>238.0</td>\n",
                     "      <td>75</td>\n",
                     "      <td>1</td>\n",
                     "      <td>13.55</td>\n",
                     "      <td>9.383333</td>\n",
                     "      <td>2022.0</td>\n",
                     "      <td>1</td>\n",
                     "      <td>6</td>\n",
                     "      <td>28</td>\n",
                     "      <td>101898</td>\n",
                     "      <td>25.577794</td>\n",
                     "    </tr>\n",
                     "  </tbody>\n",
                     "</table>\n",
                     "</div>"
                  ],
                  "text/plain": [
                     "   passenger_count  trip_distance PULocationID DOLocationID payment_type   \n",
                     "0              1.0            4.1        246.0          151            2  \\\n",
                     "1              1.0            2.3        238.0           74            2   \n",
                     "2              1.0            4.2        163.0          260            2   \n",
                     "3              1.0            0.0         79.0          182            1   \n",
                     "4              1.0            1.6        238.0           75            1   \n",
                     "\n",
                     "   total_amount  duration_in_minutes  pickup_year  pickup_day   \n",
                     "0         20.80            18.700000       2022.0           1  \\\n",
                     "1         14.80            13.816667       2022.0           1   \n",
                     "2         19.30            15.366667       2022.0           1   \n",
                     "3         42.00            39.733333       2022.0           1   \n",
                     "4         13.55             9.383333       2022.0           1   \n",
                     "\n",
                     "   pickup_day_of_week  pickup_minute  trips_per_hour  average_speed_per_hour  \n",
                     "0                   6              0          101898               25.577794  \n",
                     "1                   6             27          101898               25.577794  \n",
                     "2                   6             59          101898               25.577794  \n",
                     "3                   6             48          101898               25.577794  \n",
                     "4                   6             28          101898               25.577794  "
                  ]
               },
               "execution_count": 13,
               "metadata": {},
               "output_type": "execute_result"
            }
         ],
         "source": [
            "app_train.head()"
         ]
      },
      {
         "cell_type": "code",
         "execution_count": 14,
         "metadata": {},
         "outputs": [
            {
               "data": {
                  "text/plain": [
                     "Index(['passenger_count', 'trip_distance', 'PULocationID', 'DOLocationID',\n",
                     "       'payment_type', 'total_amount', 'duration_in_minutes', 'pickup_year',\n",
                     "       'pickup_day', 'pickup_day_of_week', 'pickup_minute', 'trips_per_hour',\n",
                     "       'average_speed_per_hour'],\n",
                     "      dtype='object')"
                  ]
               },
               "execution_count": 14,
               "metadata": {},
               "output_type": "execute_result"
            }
         ],
         "source": [
            "app_train.columns"
         ]
      },
      {
         "cell_type": "code",
         "execution_count": 8,
         "metadata": {},
         "outputs": [],
         "source": [
            "'''import json\n",
            "\n",
            "# Asumiendo que 'app_train' es tu DataFrame\n",
            "valores_unicos_trips_per_hour = app_train.groupby('pickup_hour')['trips_per_hour'].unique().apply(list).to_dict()\n",
            "valores_unicos_average_speed_per_hour = app_train.groupby('pickup_hour')['average_speed_per_hour'].unique().apply(list).to_dict()\n",
            "\n",
            "# Convierte los int64 a int estándar de Python y redondea a dos decimales\n",
            "valores_unicos_trips_per_hour = {k: [round(float(i), 2) for i in v] for k, v in valores_unicos_trips_per_hour.items()}\n",
            "valores_unicos_average_speed_per_hour = {k: [round(float(i), 2) for i in v] for k, v in valores_unicos_average_speed_per_hour.items()}\n",
            "\n",
            "with open('valores_unicos_trips_per_hour.json', 'w') as f:\n",
            "    json.dump(valores_unicos_trips_per_hour, f)\n",
            "with open('valores_unicos_average_speed_per_hour.json', 'w') as f:\n",
            "    json.dump(valores_unicos_average_speed_per_hour, f)'''"
         ]
      },
      {
         "cell_type": "code",
         "execution_count": 5,
         "metadata": {},
         "outputs": [],
         "source": [
            "# Crear el motor de la base de datos\n",
            "# Aquí estoy asumiendo que estás usando SQLite y que quieres guardar los datos en un archivo llamado `mydatabase.db`\n",
            "#engine = create_engine(rf\"sqlite:///{config.SQLITE_BD_ABSOLUTE_PATH}\", echo=False)\n",
            "\n",
            "# Guardar los DataFrames en la base de datos\n",
            "#app_train.to_sql('app_train', engine, if_exists='replace', index=False)\n",
            "#app_test.to_sql('app_test', engine, if_exists='replace', index=False)"
         ]
      },
      {
         "cell_type": "markdown",
         "metadata": {},
         "source": [
            "## Split targets from dataset"
         ]
      },
      {
         "cell_type": "code",
         "execution_count": 15,
         "metadata": {},
         "outputs": [],
         "source": [
            "(\n",
            " X_train,\n",
            " y_train_total_amount,\n",
            " y_train_duration_in_minutes,\n",
            " X_test,\n",
            " y_test_total_amount,\n",
            " y_test_duration_in_minutes\n",
            ") = data_utils.get_feature_target(app_train, app_test)"
         ]
      },
      {
         "cell_type": "markdown",
         "metadata": {},
         "source": [
            "## Stract validation dataset"
         ]
      },
      {
         "cell_type": "code",
         "execution_count": 16,
         "metadata": {},
         "outputs": [],
         "source": [
            "(\n",
            "X_train,\n",
            "X_val,\n",
            "y_train_total_amount,\n",
            "y_val_total_amount,\n",
            "y_train_duration_in_minutes,\n",
            "y_val_duration_in_minutes\n",
            ") = data_utils.get_train_val_sets(X_train, y_train_total_amount, y_train_duration_in_minutes)"
         ]
      },
      {
         "cell_type": "code",
         "execution_count": 17,
         "metadata": {},
         "outputs": [
            {
               "name": "stdout",
               "output_type": "stream",
               "text": [
                  "(2677701, 11) (669426, 11) (3280445, 11)\n"
               ]
            }
         ],
         "source": [
            "print(X_train.shape, X_val.shape, X_test.shape)"
         ]
      },
      {
         "cell_type": "markdown",
         "metadata": {},
         "source": [
            "## Clear and encode datasets"
         ]
      },
      {
         "cell_type": "code",
         "execution_count": 18,
         "metadata": {},
         "outputs": [
            {
               "name": "stdout",
               "output_type": "stream",
               "text": [
                  "passenger_count           0\n",
                  "trip_distance             0\n",
                  "PULocationID              0\n",
                  "DOLocationID              0\n",
                  "payment_type              0\n",
                  "pickup_year               0\n",
                  "pickup_day                0\n",
                  "pickup_day_of_week        0\n",
                  "pickup_minute             0\n",
                  "trips_per_hour            0\n",
                  "average_speed_per_hour    0\n",
                  "dtype: int64\n"
               ]
            }
         ],
         "source": [
            "null_values = X_test.isnull().sum()\n",
            "print(null_values)"
         ]
      },
      {
         "cell_type": "code",
         "execution_count": 19,
         "metadata": {},
         "outputs": [
            {
               "name": "stdout",
               "output_type": "stream",
               "text": [
                  "Input train data shape:  (2677701, 11)\n",
                  "Input val data shape:  (669426, 11)\n",
                  "Input test data shape:  (3280445, 11) \n",
                  "\n"
               ]
            },
            {
               "name": "stderr",
               "output_type": "stream",
               "text": [
                  "c:\\Anyone\\repos\\Anyone-AI-Sprint-3\\env\\lib\\site-packages\\sklearn\\preprocessing\\_encoders.py:202: UserWarning: Found unknown categories in columns [0] during transform. These unknown categories will be encoded as all zeros\n",
                  "  warnings.warn(\n",
                  "c:\\Anyone\\repos\\Anyone-AI-Sprint-3\\env\\lib\\site-packages\\sklearn\\preprocessing\\_encoders.py:202: UserWarning: Found unknown categories in columns [0, 1] during transform. These unknown categories will be encoded as all zeros\n",
                  "  warnings.warn(\n"
               ]
            }
         ],
         "source": [
            "X_train, X_val, X_test = preprocessing.preprocess_data(X_train, X_val, X_test)"
         ]
      },
      {
         "cell_type": "markdown",
         "metadata": {},
         "source": [
            "## Model"
         ]
      },
      {
         "cell_type": "markdown",
         "metadata": {},
         "source": [
            "### Cost"
         ]
      },
      {
         "cell_type": "code",
         "execution_count": 23,
         "metadata": {},
         "outputs": [
            {
               "name": "stdout",
               "output_type": "stream",
               "text": [
                  "[LightGBM] [Info] Auto-choosing row-wise multi-threading, the overhead of testing was 0.114816 seconds.\n",
                  "You can set `force_row_wise=true` to remove the overhead.\n",
                  "And if memory is not enough, you can set `force_col_wise=true`.\n",
                  "[LightGBM] [Info] Total Bins 1318\n",
                  "[LightGBM] [Info] Number of data points in the train set: 2677701, number of used features: 460\n",
                  "[LightGBM] [Info] Start training from score 21.004335\n",
                  "LightGBM Regressor (Validation) - R2: 0.9340, MSE: 14.8894\n",
                  "LightGBM Regressor (Test) - R2: 0.8600, MSE: 29.3862\n",
                  "XGBoost Regressor (Validation) - R2: 0.6591, MSE: 14.8894\n",
                  "XGBoost Regressor (Test) - R2: 0.5478, MSE: 94.9106\n"
               ]
            }
         ],
         "source": [
            "import pandas as pd\n",
            "import numpy as np\n",
            "from sklearn.metrics import r2_score, mean_squared_error\n",
            "from lightgbm import LGBMRegressor\n",
            "import xgboost as xgb\n",
            "import pickle\n",
            "\n",
            "\n",
            "# LightGBM Regressor (using validation set)\n",
            "lgbm = LGBMRegressor(random_state=42)\n",
            "\n",
            "# Train on training features and duration target\n",
            "lgbm.fit(X_train, y_train_total_amount)\n",
            "\n",
            "# Make predictions on validation set features\n",
            "y_pred_lgbm_val = lgbm.predict(X_val)\n",
            "\n",
            "# Evaluate on validation set - duration\n",
            "r2_lgbm_val = r2_score(y_val_total_amount, y_pred_lgbm_val)\n",
            "mse_lgbm_val = mean_squared_error(y_val_total_amount, y_pred_lgbm_val)\n",
            "\n",
            "# Print validation set results (f-string for readability)\n",
            "print(f\"LightGBM Regressor (Validation) - R2: {r2_lgbm_val:.4f}, MSE: {mse_lgbm_val:.4f}\")\n",
            "\n",
            "# Make predictions on TEST set features\n",
            "y_pred_lgbm_test = lgbm.predict(X_test)\n",
            "\n",
            "# Evaluate on TEST set - duration\n",
            "r2_lgbm_test = r2_score(y_test_total_amount, y_pred_lgbm_test)\n",
            "mse_lgbm_test = mean_squared_error(y_test_total_amount, y_pred_lgbm_test)\n",
            "\n",
            "# Print TEST set results (f-string for readability)\n",
            "print(f\"LightGBM Regressor (Test) - R2: {r2_lgbm_test:.4f}, MSE: {mse_lgbm_test:.4f}\")\n",
            "\n",
            "\n",
            "# XGBoost Regressor (using validation set)\n",
            "xgbr = xgb.XGBRegressor(random_state=42)\n",
            "\n",
            "# Train on training features and duration target\n",
            "xgbr.fit(X_train, y_train_duration_in_minutes)\n",
            "\n",
            "# Make predictions on validation set features\n",
            "y_pred_xgbr_val = xgbr.predict(X_val)\n",
            "\n",
            "# Evaluate on validation set - duration\n",
            "r2_xgbr_val = r2_score(y_val_total_amount, y_pred_xgbr_val)\n",
            "mse_xgbr_val = mean_squared_error(y_val_total_amount, y_pred_xgbr_val)\n",
            "\n",
            "# Print validation set results (f-string for readability)\n",
            "print(f\"XGBoost Regressor (Validation) - R2: {r2_xgbr_val:.4f}, MSE: {mse_lgbm_val:.4f}\")\n",
            "\n",
            "# Make predictions on TEST set features\n",
            "y_pred_xgbr_test = xgbr.predict(X_test)\n",
            "\n",
            "# Evaluate on TEST set - duration\n",
            "r2_xgbr_test = r2_score(y_test_total_amount, y_pred_xgbr_test)\n",
            "mse_xgbr_test = mean_squared_error(y_test_total_amount, y_pred_xgbr_test)\n",
            "\n",
            "with open('time_model1.pkl', 'wb') as file:\n",
            "  pickle.dump(xgbr, file)\n",
            "\n",
            "with open('Rate.pkl', 'wb') as file:\n",
            "  pickle.dump(lgbm, file)\n",
            "\n",
            "\n",
            "# Print TEST set results (f-string for readability)\n",
            "print(f\"XGBoost Regressor (Test) - R2: {r2_xgbr_test:.4f}, MSE: {mse_xgbr_test:.4f}\")"
         ]
      },
      {
         "cell_type": "markdown",
         "metadata": {},
         "source": [
            "### Time"
         ]
      },
      {
         "cell_type": "code",
         "execution_count": 22,
         "metadata": {},
         "outputs": [
            {
               "name": "stdout",
               "output_type": "stream",
               "text": [
                  "[LightGBM] [Info] Auto-choosing row-wise multi-threading, the overhead of testing was 0.085559 seconds.\n",
                  "You can set `force_row_wise=true` to remove the overhead.\n",
                  "And if memory is not enough, you can set `force_col_wise=true`.\n",
                  "[LightGBM] [Info] Total Bins 1318\n",
                  "[LightGBM] [Info] Number of data points in the train set: 2677701, number of used features: 460\n",
                  "[LightGBM] [Info] Start training from score 15.911233\n",
                  "LightGBM Regressor (Validation) - R2: 0.8477, MSE: 25.0889\n",
                  "XGBoost Regressor (Validation) - R2: 0.8558, MSE: 23.7678\n"
               ]
            }
         ],
         "source": [
            "from lightgbm import LGBMRegressor\n",
            "from xgboost import XGBRegressor\n",
            "import pickle\n",
            "\n",
            "\n",
            "# LightGBM Regressor (using validation set)\n",
            "lgbm = LGBMRegressor(random_state=42)\n",
            "\n",
            "# Train on training features and duration target\n",
            "lgbm.fit(X_train, y_train_duration_in_minutes)\n",
            "\n",
            "# Make predictions on validation set features\n",
            "y_pred_lgbm = lgbm.predict(X_val)\n",
            "\n",
            "# Evaluate on validation set - duration\n",
            "r2_lgbm_val = r2_score(y_val_duration_in_minutes, y_pred_lgbm)\n",
            "mse_lgbm_val = mean_squared_error(y_val_duration_in_minutes, y_pred_lgbm)\n",
            "\n",
            "# Print validation set results (f-string for readability)\n",
            "print(f\"LightGBM Regressor (Validation) - R2: {r2_lgbm_val:.4f}, MSE: {mse_lgbm_val:.4f}\")\n",
            "\n",
            "# XGBoost Regressor (using validation set)\n",
            "xgbr = XGBRegressor(random_state=42)\n",
            "\n",
            "# Train on training features and duration target\n",
            "xgbr.fit(X_train, y_train_duration_in_minutes)\n",
            "\n",
            "# Make predictions on validation set features\n",
            "y_pred_xgbr = xgbr.predict(X_val)\n",
            "\n",
            "# Evaluate on validation set - duration\n",
            "r2_xgbr_val = r2_score(y_val_duration_in_minutes, y_pred_xgbr)\n",
            "mse_xgbr_val = mean_squared_error(y_val_duration_in_minutes, y_pred_xgbr)\n",
            "\n",
            "with open('time_model1.pkl', 'wb') as file:\n",
            "  pickle.dump(xgbr, file)\n",
            "\n",
            "with open('Rate.pkl', 'wb') as file:\n",
            "  pickle.dump(lgbm, file)\n",
            "\n",
            "\n",
            "# Print validation set results (f-string for readability)\n",
            "print(f\"XGBoost Regressor (Validation) - R2: {r2_xgbr_val:.4f}, MSE: {mse_xgbr_val:.4f}\")"
         ]
      }
   ],
   "metadata": {
      "kernelspec": {
         "display_name": "finalprojectenv",
         "language": "python",
         "name": "python3"
      },
      "language_info": {
         "codemirror_mode": {
            "name": "ipython",
            "version": 3
         },
         "file_extension": ".py",
         "mimetype": "text/x-python",
         "name": "python",
         "nbconvert_exporter": "python",
         "pygments_lexer": "ipython3",
         "version": "3.8.18"
      },
      "vscode": {
         "interpreter": {
            "hash": "5efa683b5b1ae7e8e11b6b316072de2b1afb735b3660bedb7c7a61c7b9dc51db"
         }
      }
   },
   "nbformat": 4,
   "nbformat_minor": 2
}
